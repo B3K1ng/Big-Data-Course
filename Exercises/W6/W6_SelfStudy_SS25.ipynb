{
  "cells": [
    {
      "cell_type": "markdown",
      "metadata": {
        "id": "YL04biVx5gEz"
      },
      "source": [
        "# Week 6 – Self-Guided Notebook (Holiday Week): Data Import + Visualisation Practice"
      ]
    },
    {
      "cell_type": "markdown",
      "metadata": {
        "id": "CmlLQHsxTYSs"
      },
      "source": [
        "🎯 Goal: You’ll explore a dataset with 150 food items and their nutritional values using the libraries Pandas, NumPy, Matplotlib, and Seaborn."
      ]
    },
    {
      "cell_type": "markdown",
      "metadata": {
        "id": "bE-OyRuXTYSt"
      },
      "source": [
        "### 📁 STEP 1 – How to Upload Your .csv File in Google Colab\n",
        "\n",
        "If you’re using Google Colab, you must upload the **nutrition_data_150.csv** file before running the code. The data consists of comma-separated values (known as CSV format), which we will convert in a DataFrame using Pandas."
      ]
    },
    {
      "cell_type": "markdown",
      "metadata": {
        "id": "8AJeEOiKTYSt"
      },
      "source": [
        "Run the next cell and use the dialog to upload the file \"nutrition_data_150.csv\""
      ]
    },
    {
      "cell_type": "code",
      "execution_count": null,
      "metadata": {
        "id": "zEbyaPKHTYSv"
      },
      "outputs": [],
      "source": [
        "from google.colab import files\n",
        "\n",
        "# Run this cell and click on the button that will appear below.\n",
        "# A dialog box will ask you to select the file \"nutrition_data_150.csv\"\n",
        "uploaded = files.upload()"
      ]
    },
    {
      "cell_type": "markdown",
      "metadata": {
        "id": "yG_3QdWjTYSw"
      },
      "source": [
        "### STEP 2 – Load and Explore the Dataset\n",
        "\n",
        "🔍 What’s inside the file?\n",
        "\n",
        "Let’s import the libraries and load the .csv file."
      ]
    },
    {
      "cell_type": "code",
      "execution_count": null,
      "metadata": {
        "id": "2lI72p2ATYSx"
      },
      "outputs": [],
      "source": [
        "import pandas as pd\n",
        "import numpy as np\n",
        "import matplotlib.pyplot as plt\n",
        "import seaborn as sns"
      ]
    },
    {
      "cell_type": "code",
      "execution_count": null,
      "metadata": {
        "id": "EUZDClBpTYSx"
      },
      "outputs": [],
      "source": [
        "# Import/load the dataset (it should be in the same folder)\n",
        "imported_df = pd.read_csv('nutrition_data_150.csv')\n",
        "\n",
        "# Display the first 5 rows\n",
        "print(\"First 5 rows of the imported DataFrame:\")\n",
        "print(imported_df.head())"
      ]
    },
    {
      "cell_type": "markdown",
      "metadata": {
        "id": "UmRrBMr6TYSy"
      },
      "source": [
        "This code reads the `nutrition_data_150.csv` file into a pandas DataFrame.\n",
        "\n",
        "- `pd.read_csv(...)`: loads the table.\n",
        "- `.head()`: shows the first 5 rows of the table to give you a preview. You can display a specific number of rows if you type it as an input in the brackets. For example, you could say `.head(15)` and print the first 15 rows."
      ]
    },
    {
      "cell_type": "markdown",
      "metadata": {
        "id": "ZZa4TdqsTYSy"
      },
      "source": [
        "### STEP 3 – Descriptive Statistics\n",
        "\n",
        "Run the next cell to print the basic  of the DataFrame."
      ]
    },
    {
      "cell_type": "code",
      "execution_count": null,
      "metadata": {
        "id": "8XP0K5iVTYSz"
      },
      "outputs": [],
      "source": [
        "print(\"Statistical Summary:\")\n",
        "print(imported_df.describe())"
      ]
    },
    {
      "cell_type": "markdown",
      "metadata": {
        "id": "EUpKLJuATYS0"
      },
      "source": [
        "`.describe()` gives summary statistics for numeric columns:\n",
        "\n",
        "- count = number of entries\n",
        "- mean = average\n",
        "- std = standard deviation\n",
        "- min/max = range\n",
        "- 25%, 50%, 75% = quartiles"
      ]
    },
    {
      "cell_type": "markdown",
      "metadata": {
        "id": "9tsQNXxdTYS0"
      },
      "source": [
        "### STEP 4 – Plot a Histogram\n",
        "\n",
        "Let’s see how calories are distributed across all food items."
      ]
    },
    {
      "cell_type": "code",
      "execution_count": null,
      "metadata": {
        "id": "tko8mJrOTYS1"
      },
      "outputs": [],
      "source": [
        "plt.figure(figsize=(10, 6))\n",
        "plt.hist(imported_df['Calories (kcal)'], bins=20, color='skyblue', edgecolor='black')\n",
        "plt.title('Histogram of Calories')\n",
        "plt.xlabel('Calories (kcal)')\n",
        "plt.ylabel('Frequency')\n",
        "plt.grid(True)\n",
        "plt.show()"
      ]
    },
    {
      "cell_type": "markdown",
      "metadata": {
        "id": "y9kgNNkXTYS1"
      },
      "source": [
        "- Each bar shows how many foods fall into a specific calorie range.\n",
        "- This helps you understand the overall distribution (e.g., are most foods low or high calorie?)."
      ]
    },
    {
      "cell_type": "code",
      "execution_count": null,
      "metadata": {
        "id": "_oY2VU2AX_rj"
      },
      "outputs": [],
      "source": [
        "# Filter for a specific food item, e.g., 'Avocado'\n",
        "avocado_df = imported_df[imported_df['Food Item'] == 'Avocado']\n",
        "\n",
        "plt.figure(figsize=(10, 6))\n",
        "plt.hist(avocado_df['Calories (kcal)'], bins=10, color='salmon', edgecolor='black')\n",
        "plt.title('Calories in Avocados')\n",
        "plt.xlabel('Calories (kcal)')\n",
        "plt.ylabel('Frequency')\n",
        "plt.grid(True)\n",
        "plt.show()\n",
        "\n",
        "# ✅ Focuses only on the calorie variation among avocado samples."
      ]
    },
    {
      "cell_type": "markdown",
      "metadata": {
        "id": "Una3O2lsTYS1"
      },
      "source": [
        "### STEP 5 – Scatter Plot: Protein vs. Fat"
      ]
    },
    {
      "cell_type": "code",
      "execution_count": null,
      "metadata": {
        "id": "D3jRkVZxTYS2"
      },
      "outputs": [],
      "source": [
        "plt.figure(figsize=(10, 6))\n",
        "plt.scatter(imported_df['Protein (g)'], imported_df['Fat (g)'], color='green', alpha=0.5)\n",
        "plt.title('Scatter Plot of Protein vs. Fat')\n",
        "plt.xlabel('Protein (g)')\n",
        "plt.ylabel('Fat (g)')\n",
        "plt.grid(True)\n",
        "plt.show()"
      ]
    },
    {
      "cell_type": "markdown",
      "metadata": {
        "id": "JZmrNxA-TYS2"
      },
      "source": [
        "- Each point represents a food item.\n",
        "- You can look for relationships: do foods with more protein also have more fat?\n",
        "- `alpha=0.5` makes overlapping dots more transparent. Try different values of alpha between 0.0 and 1.0."
      ]
    },
    {
      "cell_type": "code",
      "execution_count": null,
      "metadata": {
        "id": "ptQcib-1goBS"
      },
      "outputs": [],
      "source": [
        "plt.figure(figsize=(10, 6))\n",
        "plt.scatter(imported_df['Protein (g)'], imported_df['Calories (kcal)'], color='green', alpha=0.5)\n",
        "plt.title('Scatter Plot of Protein vs. Calories')\n",
        "plt.xlabel('Protein (g)')\n",
        "plt.ylabel('Calories (kcal)')\n",
        "plt.grid(True)\n",
        "plt.show()"
      ]
    },
    {
      "cell_type": "markdown",
      "metadata": {
        "id": "CGSZphU-TYS2"
      },
      "source": [
        "### STEP 6 – Box Plot: Calories Across Food Types"
      ]
    },
    {
      "cell_type": "code",
      "execution_count": null,
      "metadata": {
        "id": "gxL_xbPHTYS3"
      },
      "outputs": [],
      "source": [
        "plt.figure(figsize=(10, 6))\n",
        "sns.boxplot(x='Food Item', y='Calories (kcal)', data=imported_df)\n",
        "plt.title('Calories Distribution Across Food Items')\n",
        "plt.xlabel('Food Item')\n",
        "plt.ylabel('Calories (kcal)')\n",
        "plt.xticks(rotation=45)\n",
        "plt.tight_layout()\n",
        "plt.show()"
      ]
    },
    {
      "cell_type": "markdown",
      "metadata": {
        "id": "pltUeCzGTYS3"
      },
      "source": [
        "**What is a boxplot?**\n",
        "A boxplot helps you see:\n",
        "\n",
        "- The **median** (middle line)\n",
        "- The **quartiles** (box edges)\n",
        "- **Outliers** (dots outside whiskers)\n",
        "- It helps compare calorie spread between food types.\n",
        "\n",
        "Make sure the 'Food Item' column contains only a few unique values. If not, the x-axis might be unreadable."
      ]
    },
    {
      "cell_type": "markdown",
      "metadata": {
        "id": "pJ5KCa02YgLN"
      },
      "source": [
        "### Violin Plot of Calories Across Food Items\n",
        "This shows both the distribution *shape* and spread for each food type."
      ]
    },
    {
      "cell_type": "code",
      "execution_count": null,
      "metadata": {
        "id": "Nuid04ezYdp3"
      },
      "outputs": [],
      "source": [
        "plt.figure(figsize=(12, 6))\n",
        "sns.violinplot(x='Food Item', y='Calories (kcal)', data=imported_df, inner='quartile')\n",
        "plt.title('Calories Distribution by Food Item (Violin Plot)')\n",
        "plt.xlabel('Food Item')\n",
        "plt.ylabel('Calories (kcal)')\n",
        "plt.xticks(rotation=45)\n",
        "plt.tight_layout()\n",
        "plt.show()"
      ]
    },
    {
      "cell_type": "markdown",
      "metadata": {
        "id": "nskH3LcOg-nM"
      },
      "source": [
        "Looking at the plots, can you tell which food has the more variance in calorie content? And which one has a bimodal distribution in their calorie content?"
      ]
    },
    {
      "cell_type": "markdown",
      "metadata": {
        "id": "1lcdR7miTYS3"
      },
      "source": [
        "Try it Yourself!\n",
        "1.\tTry changing 'Calories (kcal)' to 'Protein (g)' in the plots.\n",
        "2.\tFilter the DataFrame to show only food items above 250 kcal.\n",
        "3.\tSort the foods by protein content using df.sort_values('Protein (g)')."
      ]
    }
  ],
  "metadata": {
    "colab": {
      "provenance": []
    },
    "kernelspec": {
      "display_name": "Python 3",
      "name": "python3"
    },
    "language_info": {
      "codemirror_mode": {
        "name": "ipython",
        "version": 3
      },
      "file_extension": ".py",
      "mimetype": "text/x-python",
      "name": "python",
      "nbconvert_exporter": "python",
      "pygments_lexer": "ipython3",
      "version": "3.12.4"
    }
  },
  "nbformat": 4,
  "nbformat_minor": 0
}
