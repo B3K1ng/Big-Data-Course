{
  "cells": [
    {
      "cell_type": "markdown",
      "metadata": {
        "id": "863oByutTzyd"
      },
      "source": [
        "#  Week 4: NumPy & Pandas\n"
      ]
    },
    {
      "cell_type": "markdown",
      "metadata": {
        "id": "QGK0WkYHfCP9"
      },
      "source": [
        "### Introduction\n",
        "In this notebook, we will dive deeper into:\n",
        "\n",
        "- NumPy arrays: creation, slicing, operations\n",
        "- Pandas DataFrames: creation, accessing, filtering, adding columns\n",
        "- Combining both libraries for data handling\n",
        "\n",
        "Please complete the sections marked as # YOUR CODE HERE.\n",
        "You will get practice examples, and short tasks to complete on your own."
      ]
    },
    {
      "cell_type": "markdown",
      "metadata": {
        "id": "3c9e7349"
      },
      "source": [
        "### Section 1: NumPy Arrays\n",
        "\n",
        "🏫 Example: Create a 1D array and explore it"
      ]
    },
    {
      "cell_type": "code",
      "source": [
        "listNum = [0, 1, 2, 3, 4, 5, 6, 7, 8, 9]\n",
        "print(listNum)"
      ],
      "metadata": {
        "colab": {
          "base_uri": "https://localhost:8080/"
        },
        "id": "iA29cdQAfiqG",
        "outputId": "9814535c-af83-4b40-946f-8d73dd1319c8"
      },
      "execution_count": null,
      "outputs": [
        {
          "output_type": "stream",
          "name": "stdout",
          "text": [
            "[0, 1, 2, 3, 4, 5, 6, 7, 8, 9]\n"
          ]
        }
      ]
    },
    {
      "cell_type": "code",
      "source": [
        "import numpy as np"
      ],
      "metadata": {
        "id": "j0RJnVfMf0xl"
      },
      "execution_count": null,
      "outputs": []
    },
    {
      "cell_type": "code",
      "source": [
        "# Create a 1D array containing numbers from 0 to 9\n",
        "myArray = np.array([0, 1, 2, 3, 4, 5, 6, 7, 8, 9])\n",
        "print(\"Array:\", myArray)"
      ],
      "metadata": {
        "colab": {
          "base_uri": "https://localhost:8080/"
        },
        "id": "CFqG_ZcEgBM2",
        "outputId": "75333add-2238-4079-fb48-739dfc1f9628"
      },
      "execution_count": null,
      "outputs": [
        {
          "output_type": "stream",
          "name": "stdout",
          "text": [
            "Array: [0 1 2 3 4 5 6 7 8 9]\n"
          ]
        }
      ]
    },
    {
      "cell_type": "code",
      "execution_count": null,
      "metadata": {
        "colab": {
          "base_uri": "https://localhost:8080/"
        },
        "id": "2jUL9djvTmpt",
        "outputId": "1e93956c-9e45-43f9-92f2-63dadfc779c9"
      },
      "outputs": [
        {
          "output_type": "stream",
          "name": "stdout",
          "text": [
            "Fifth element: 4\n",
            "Alternative array: [ 0  1  2  3  4  5  6  7  8  9 10 11 12 13 14 15 16 17 18 19]\n"
          ]
        }
      ],
      "source": [
        "# Access the element at index 3 (4th element)\n",
        "print(\"Fifth element:\", myArray[4])\n",
        "\n",
        "# Alternative way to create the array\n",
        "myArray2 = np.array(range(20))\n",
        "print(\"Alternative array:\", myArray2)"
      ]
    },
    {
      "cell_type": "code",
      "source": [
        "testArray = myArray*2/10+5\n",
        "print(testArray)"
      ],
      "metadata": {
        "colab": {
          "base_uri": "https://localhost:8080/"
        },
        "id": "O9twLCWZg8hK",
        "outputId": "3ed80c11-3738-47ff-a421-6c5a9ac2f9a4"
      },
      "execution_count": null,
      "outputs": [
        {
          "output_type": "stream",
          "name": "stdout",
          "text": [
            "[5.  5.2 5.4 5.6 5.8 6.  6.2 6.4 6.6 6.8]\n"
          ]
        }
      ]
    },
    {
      "cell_type": "markdown",
      "metadata": {
        "id": "7lzAGJE0fCQB"
      },
      "source": [
        "🏫 Exercise 1: Perform math operations"
      ]
    },
    {
      "cell_type": "code",
      "execution_count": null,
      "metadata": {
        "colab": {
          "base_uri": "https://localhost:8080/"
        },
        "id": "vzW1Ez_efCQC",
        "outputId": "5121c9d6-7220-4ce5-f88f-83acab274954"
      },
      "outputs": [
        {
          "output_type": "stream",
          "name": "stdout",
          "text": [
            "Result of addition: [ 10  21  32  43  54  65  76  87  98 109]\n",
            "Result of multiplication: [ 50 100 150 200 250 300 350 400 450 500]\n"
          ]
        }
      ],
      "source": [
        "# TO DO: Create another array with values [10,20,30,40,50,60,70,80,90,100]\n",
        "myArray3 = np.array([10,20,30,40,50,60,70,80,90,100])  # YOUR CODE HERE\n",
        "\n",
        "# Add myArray and myArray3 element-wise\n",
        "arraySum = myArray + myArray3  # YOUR CODE HERE\n",
        "print(\"Result of addition:\", arraySum)\n",
        "\n",
        "# Multiply myArray3 by 5\n",
        "myArray4 = myArray3*5  # YOUR CODE HERE\n",
        "print(\"Result of multiplication:\", myArray4)"
      ]
    },
    {
      "cell_type": "markdown",
      "metadata": {
        "id": "X5vPbRo3fCQC"
      },
      "source": [
        "<details> <summary>✅ Solution</summary>\n",
        "\n",
        "myArray3 = np.array([10,20,30,40,50,60,70,80,90,100])\n",
        "arraySum = myArray + myArray3\n",
        "myArray4 = myArray3 * 5\n",
        "print(\"Result of addition:\", arraySum)\n",
        "print(\"Result of multiplication:\", myArray4)\n",
        "\n",
        "</details>"
      ]
    },
    {
      "cell_type": "markdown",
      "metadata": {
        "id": "YIhGsWtufCQD"
      },
      "source": [
        "🏫 Exercise 2: Work with 2D arrays"
      ]
    },
    {
      "cell_type": "code",
      "execution_count": null,
      "metadata": {
        "colab": {
          "base_uri": "https://localhost:8080/"
        },
        "id": "EKWiUsZ5fCQD",
        "outputId": "7eac1780-7ba0-45cc-af2f-4df4ff363fd8"
      },
      "outputs": [
        {
          "output_type": "stream",
          "name": "stdout",
          "text": [
            "[[ 1  2  3]\n",
            " [ 4  5  6]\n",
            " [ 7  8  9]\n",
            " [10 11 12]]\n",
            "[[0.5 1.  1.5]\n",
            " [2.  2.5 3. ]\n",
            " [3.5 4.  4.5]\n",
            " [5.  5.5 6. ]]\n",
            "[[ 6 12 18]\n",
            " [24 30 36]\n",
            " [42 48 54]\n",
            " [60 66 72]]\n"
          ]
        }
      ],
      "source": [
        "# TO DO: Create a 3x3 array [[1,2,3],[4,5,6],[7,8,9]]\n",
        "array_2d = np.array([[1,2,3],[4,5,6],[7,8,9],[10,11,12]])  # YOUR CODE HERE\n",
        "print(array_2d)\n",
        "\n",
        "# Divide all elements by 2\n",
        "array_2d_div = array_2d/2\n",
        "print(array_2d_div)  # YOUR CODE HERE\n",
        "\n",
        "# Multiply all elements by 6\n",
        "result = array_2d*6  # YOUR CODE HERE\n",
        "print(result)"
      ]
    },
    {
      "cell_type": "code",
      "source": [
        "print(array_2d[1,2])"
      ],
      "metadata": {
        "colab": {
          "base_uri": "https://localhost:8080/"
        },
        "id": "Pb-xnsdKmZsX",
        "outputId": "504b890f-eeaf-458c-b6d6-a0293300c88e"
      },
      "execution_count": null,
      "outputs": [
        {
          "output_type": "stream",
          "name": "stdout",
          "text": [
            "6\n"
          ]
        }
      ]
    },
    {
      "cell_type": "code",
      "source": [
        "print(array_2d[1,:])"
      ],
      "metadata": {
        "colab": {
          "base_uri": "https://localhost:8080/"
        },
        "id": "7YCvxse8m31i",
        "outputId": "0dccc0c7-6bf8-47cd-8523-6a27a21452e4"
      },
      "execution_count": null,
      "outputs": [
        {
          "output_type": "stream",
          "name": "stdout",
          "text": [
            "[4 5 6]\n"
          ]
        }
      ]
    },
    {
      "cell_type": "code",
      "source": [
        "print(array_2d[:,2])"
      ],
      "metadata": {
        "colab": {
          "base_uri": "https://localhost:8080/"
        },
        "id": "J8R77l9fnLpE",
        "outputId": "af3e09ba-711c-4352-dcdc-5806000d233d"
      },
      "execution_count": null,
      "outputs": [
        {
          "output_type": "stream",
          "name": "stdout",
          "text": [
            "[ 3  6  9 12]\n"
          ]
        }
      ]
    },
    {
      "cell_type": "code",
      "source": [
        "print( array_2d.reshape((3, 4)) )"
      ],
      "metadata": {
        "colab": {
          "base_uri": "https://localhost:8080/"
        },
        "id": "m7-o2IIdohm_",
        "outputId": "3f93a9c0-655e-4a6a-8cf5-236973713e0d"
      },
      "execution_count": null,
      "outputs": [
        {
          "output_type": "stream",
          "name": "stdout",
          "text": [
            "[[ 1  2  3  4]\n",
            " [ 5  6  7  8]\n",
            " [ 9 10 11 12]]\n"
          ]
        }
      ]
    },
    {
      "cell_type": "markdown",
      "metadata": {
        "id": "w4t31LnHfCQG"
      },
      "source": [
        "<details> <summary>✅ Solution</summary>\n",
        "\n",
        "array_2d = np.array([[1,2,3],[4,5,6],[7,8,9]])\n",
        "print(array_2d)\n",
        "print(array_2d / 2)\n",
        "result = array_2d * 6\n",
        "print(result)\n",
        "\n",
        "</details>"
      ]
    },
    {
      "cell_type": "markdown",
      "metadata": {
        "id": "CXc1d5MKfCQH"
      },
      "source": [
        "🏫 Exercise 3: Slicing and reshaping"
      ]
    },
    {
      "cell_type": "code",
      "execution_count": null,
      "metadata": {
        "colab": {
          "base_uri": "https://localhost:8080/"
        },
        "id": "6VA1nHihfCQJ",
        "outputId": "3cf2c4e2-d194-424c-eb41-a047250a2386"
      },
      "outputs": [
        {
          "output_type": "stream",
          "name": "stdout",
          "text": [
            "First row: [1 2 3]\n",
            "Second column: [ 2  5  8 11]\n",
            "Reshaped array: [ 1  2  3  4  5  6  7  8  9 10 11 12]\n"
          ]
        }
      ],
      "source": [
        "# TO DO: Slice the first row of array_2d\n",
        "first_row = array_2d[0,:]  # YOUR CODE HERE\n",
        "print(\"First row:\", first_row)\n",
        "\n",
        "# TO DO: Slice the second column of array_2d\n",
        "second_col = array_2d[:,1]  # YOUR CODE HERE\n",
        "print(\"Second column:\", second_col)\n",
        "\n",
        "# TO DO: Reshape array_2d into a 1D array\n",
        "reshaped = array_2d.reshape((-1))  # YOUR CODE HERE\n",
        "print(\"Reshaped array:\", reshaped)\n"
      ]
    },
    {
      "cell_type": "code",
      "source": [
        "print(array_2d[0:3,2])"
      ],
      "metadata": {
        "colab": {
          "base_uri": "https://localhost:8080/"
        },
        "id": "Ms9w8WqkrPjY",
        "outputId": "eff216ab-27e8-461f-ec02-96f871388d87"
      },
      "execution_count": null,
      "outputs": [
        {
          "output_type": "stream",
          "name": "stdout",
          "text": [
            "[3 6 9]\n"
          ]
        }
      ]
    },
    {
      "cell_type": "markdown",
      "metadata": {
        "id": "EArpLivmfCQK"
      },
      "source": [
        "<details> <summary>✅ Solution</summary>\n",
        "\n",
        "first_row = array_2d[0, :]\n",
        "second_col = array_2d[:, 1]\n",
        "reshaped = array_2d.reshape(-1)\n",
        "print(\"First row:\", first_row)\n",
        "print(\"Second column:\", second_col)\n",
        "print(\"Reshaped array:\", reshaped)\n",
        "\n",
        "</details>"
      ]
    },
    {
      "cell_type": "markdown",
      "metadata": {
        "id": "i3sViio9fCQK"
      },
      "source": [
        "## Section 2: Pandas DataFrames"
      ]
    },
    {
      "cell_type": "markdown",
      "metadata": {
        "id": "SToJTxfJfCQK"
      },
      "source": [
        "🏫 Example: Create a DataFrame"
      ]
    },
    {
      "cell_type": "code",
      "execution_count": null,
      "metadata": {
        "colab": {
          "base_uri": "https://localhost:8080/"
        },
        "id": "cNqmAp49fCQK",
        "outputId": "aa8ab0ac-f243-49ef-baba-727b3593a371"
      },
      "outputs": [
        {
          "output_type": "stream",
          "name": "stdout",
          "text": [
            "This is a dictionary: {'Name': ['Alice', 'Bob', 'Charlie', 'David'], 'Age': [27, 33, 38, 42], 'City': ['New York', 'Los Angeles', 'Chicago', 'Houston']}\n",
            "This is a DataFrame:\n",
            "       Name  Age         City\n",
            "0    Alice   27     New York\n",
            "1      Bob   33  Los Angeles\n",
            "2  Charlie   38      Chicago\n",
            "3    David   42      Houston\n"
          ]
        }
      ],
      "source": [
        "import pandas as pd\n",
        "\n",
        "# Create a DataFrame from a dictionary\n",
        "data = {\n",
        "    'Name': ['Alice', 'Bob', 'Charlie', 'David'],\n",
        "    'Age': [27, 33, 38, 42],\n",
        "    'City': ['New York', 'Los Angeles', 'Chicago', 'Houston']\n",
        "}\n",
        "\n",
        "print(\"This is a dictionary:\", data)\n",
        "\n",
        "df = pd.DataFrame(data)\n",
        "print(\"This is a DataFrame:\\n\", df)"
      ]
    },
    {
      "cell_type": "markdown",
      "metadata": {
        "id": "Ph2EMxaQfCQK"
      },
      "source": [
        "🏫 Exercise 4: Access and slice columns"
      ]
    },
    {
      "cell_type": "code",
      "execution_count": null,
      "metadata": {
        "colab": {
          "base_uri": "https://localhost:8080/"
        },
        "id": "lKP6y2rWfCQK",
        "outputId": "02402f75-0ac8-4583-8b6f-5589231ac591"
      },
      "outputs": [
        {
          "output_type": "stream",
          "name": "stdout",
          "text": [
            "0    25\n",
            "1    30\n",
            "2    35\n",
            "3    40\n",
            "Name: Age, dtype: int64\n"
          ]
        }
      ],
      "source": [
        "# TO DO: Access the 'Age' column\n",
        "ages = df['Age']  # YOUR CODE HERE\n",
        "print(ages)"
      ]
    },
    {
      "cell_type": "code",
      "source": [
        "# TO DO: Slice the second and third elements from 'Age'\n",
        "age_slice = ages[0:3]  # YOUR CODE HERE\n",
        "print(age_slice)"
      ],
      "metadata": {
        "colab": {
          "base_uri": "https://localhost:8080/"
        },
        "id": "3YoMZyw6qqtu",
        "outputId": "285ea4ac-b9c0-4044-8e31-56750c5d837b"
      },
      "execution_count": null,
      "outputs": [
        {
          "output_type": "stream",
          "name": "stdout",
          "text": [
            "0    25\n",
            "1    30\n",
            "2    35\n",
            "Name: Age, dtype: int64\n"
          ]
        }
      ]
    },
    {
      "cell_type": "markdown",
      "metadata": {
        "id": "bhC0la8LfCQL"
      },
      "source": [
        "<details> <summary>✅ Solution</summary>\n",
        "\n",
        "ages = df['Age']\n",
        "age_slice = df['Age'][1:3]\n",
        "print(ages)\n",
        "print(age_slice)\n",
        "\n",
        "</details>"
      ]
    },
    {
      "cell_type": "markdown",
      "metadata": {
        "id": "CzoOwOoqfCQL"
      },
      "source": [
        "🏫 Exercise 5: Add a new column"
      ]
    },
    {
      "cell_type": "code",
      "execution_count": null,
      "metadata": {
        "colab": {
          "base_uri": "https://localhost:8080/"
        },
        "id": "0jeWzHqcfCQL",
        "outputId": "8500aead-33da-4c12-ac7f-82ced91da4a5"
      },
      "outputs": [
        {
          "output_type": "stream",
          "name": "stdout",
          "text": [
            "      Name  Age         City  Gender\n",
            "0    Alice   27     New York  Female\n",
            "1      Bob   33  Los Angeles    Male\n",
            "2  Charlie   38      Chicago    Male\n",
            "3    David   42      Houston    Male\n"
          ]
        }
      ],
      "source": [
        "# TO DO: Add a 'Gender' column with ['Female', 'Male', 'Male', 'Male']\n",
        "df['Gender'] = ['Female', 'Male', 'Male', 'Male']  # YOUR CODE HERE\n",
        "print(df)"
      ]
    },
    {
      "cell_type": "markdown",
      "metadata": {
        "id": "PhUYTXJqfCQL"
      },
      "source": [
        "<details> <summary>✅ Solution</summary>\n",
        "\n",
        "df['Gender'] = ['Female', 'Male', 'Male', 'Male']\n",
        "print(df)\n",
        "\n",
        "</details>"
      ]
    },
    {
      "cell_type": "markdown",
      "metadata": {
        "id": "ofyT3MmvfCQL"
      },
      "source": [
        "🏫 Exercise 6: Filter data"
      ]
    },
    {
      "cell_type": "code",
      "source": [
        "print(df['Age'])"
      ],
      "metadata": {
        "colab": {
          "base_uri": "https://localhost:8080/"
        },
        "id": "g1J4NQP2tLw5",
        "outputId": "601bc659-dd7e-4d42-ffde-3017168d01fe"
      },
      "execution_count": null,
      "outputs": [
        {
          "output_type": "stream",
          "name": "stdout",
          "text": [
            "0    25\n",
            "1    30\n",
            "2    35\n",
            "3    40\n",
            "Name: Age, dtype: int64\n"
          ]
        }
      ]
    },
    {
      "cell_type": "code",
      "source": [
        "print(df['Age']>=30)"
      ],
      "metadata": {
        "colab": {
          "base_uri": "https://localhost:8080/"
        },
        "id": "r_sV6xVisimu",
        "outputId": "14f67073-a702-4bb7-e01a-ec58a7e1c46d"
      },
      "execution_count": null,
      "outputs": [
        {
          "output_type": "stream",
          "name": "stdout",
          "text": [
            "0    False\n",
            "1     True\n",
            "2     True\n",
            "3     True\n",
            "Name: Age, dtype: bool\n"
          ]
        }
      ]
    },
    {
      "cell_type": "code",
      "source": [
        "print(df[ df['Age']>=30 ])"
      ],
      "metadata": {
        "colab": {
          "base_uri": "https://localhost:8080/"
        },
        "id": "gnPr0zm6tYTY",
        "outputId": "970f4c63-d8fa-48ac-b594-76bd92e09992"
      },
      "execution_count": null,
      "outputs": [
        {
          "output_type": "stream",
          "name": "stdout",
          "text": [
            "      Name  Age         City Gender\n",
            "1      Bob   30  Los Angeles   Male\n",
            "2  Charlie   35      Chicago   Male\n",
            "3    David   40      Houston   Male\n"
          ]
        }
      ]
    },
    {
      "cell_type": "code",
      "execution_count": null,
      "metadata": {
        "colab": {
          "base_uri": "https://localhost:8080/"
        },
        "id": "jgeO0_-gfCQL",
        "outputId": "1e7b0c42-2fb9-4d29-daee-ba8bb3e6881c"
      },
      "outputs": [
        {
          "output_type": "stream",
          "name": "stdout",
          "text": [
            "Filtered DataFrame:\n",
            "       Name  Age     City Gender\n",
            "2  Charlie   35  Chicago   Male\n",
            "3    David   40  Houston   Male\n",
            "Filtered DataFrame:\n",
            "       Name  Age         City Gender\n",
            "1      Bob   30  Los Angeles   Male\n",
            "2  Charlie   35      Chicago   Male\n",
            "3    David   40      Houston   Male\n"
          ]
        }
      ],
      "source": [
        "# TO DO: Filter DataFrame to only show people aged 35 and above\n",
        "filtered_df = df[ df['Age']>=35 ]  # YOUR CODE HERE\n",
        "print(\"Filtered DataFrame:\\n\", filtered_df)\n",
        "\n",
        "filtered_df = df[ df['Gender']=='Male' ]  # YOUR CODE HERE\n",
        "print(\"Filtered DataFrame:\\n\", filtered_df)"
      ]
    },
    {
      "cell_type": "markdown",
      "metadata": {
        "id": "ByewTa95fCQL"
      },
      "source": [
        "<details> <summary>✅ Solution</summary>\n",
        "\n",
        "filtered_df = df[df['Age'] >= 30]\n",
        "print(\"Filtered DataFrame:\\n\", filtered_df)\n",
        "\n",
        "</details>"
      ]
    },
    {
      "cell_type": "markdown",
      "metadata": {
        "id": "WM4WoB76fCQL"
      },
      "source": [
        "🏫 Exercise 7: Grouping data"
      ]
    },
    {
      "cell_type": "code",
      "execution_count": null,
      "metadata": {
        "id": "uLhlBrXkfCQL",
        "colab": {
          "base_uri": "https://localhost:8080/"
        },
        "outputId": "94aa1f34-6225-4131-f93e-aed4f2aaad40"
      },
      "outputs": [
        {
          "output_type": "stream",
          "name": "stdout",
          "text": [
            "Gender\n",
            "Female    27.000000\n",
            "Male      37.666667\n",
            "Name: Age, dtype: float64\n",
            "Gender\n",
            "Female        NaN\n",
            "Male      4.50925\n",
            "Name: Age, dtype: float64\n"
          ]
        }
      ],
      "source": [
        "# TODO: Group by 'Gender' and calculate the average age\n",
        "grouped = df.groupby('Gender')['Age']  # YOUR CODE HERE\n",
        "print(grouped.mean())\n",
        "print(grouped.std())"
      ]
    },
    {
      "cell_type": "markdown",
      "metadata": {
        "id": "GZhFk5LIfCQM"
      },
      "source": [
        "<details> <summary>✅ Solution</summary>\n",
        "\n",
        "grouped = df.groupby('Gender')['Age']\n",
        "print(grouped.mean())\n",
        "\n",
        "</details>"
      ]
    },
    {
      "cell_type": "markdown",
      "metadata": {
        "id": "0PWOKFBtfCQM"
      },
      "source": [
        "🏫 Exercise 8: Sorting data"
      ]
    },
    {
      "cell_type": "code",
      "execution_count": null,
      "metadata": {
        "id": "kl4Fu3zrfCQM",
        "colab": {
          "base_uri": "https://localhost:8080/"
        },
        "outputId": "dbf18435-4f89-4c18-9087-8d4de3833c13"
      },
      "outputs": [
        {
          "output_type": "stream",
          "name": "stdout",
          "text": [
            "      Name  Age         City  Gender\n",
            "0    Alice   27     New York  Female\n",
            "1      Bob   33  Los Angeles    Male\n",
            "2  Charlie   38      Chicago    Male\n",
            "3    David   42      Houston    Male\n"
          ]
        }
      ],
      "source": [
        "# TO DO: Sort the DataFrame by 'Age' in descending order\n",
        "sorted_df = df.sort_values('Age',ascending = True)  # YOUR CODE HERE\n",
        "print(sorted_df)"
      ]
    },
    {
      "cell_type": "markdown",
      "metadata": {
        "id": "sqYJMvVufCQN"
      },
      "source": [
        "<details> <summary>✅ Solution</summary>\n",
        "\n",
        "sorted_df = df.sort_values('Age', ascending=False)\n",
        "print(sorted_df)\n",
        "\n",
        "</details>"
      ]
    },
    {
      "cell_type": "markdown",
      "metadata": {
        "id": "URMmSujNfCQN"
      },
      "source": [
        "### Section 3: Combining NumPy and Pandas"
      ]
    },
    {
      "cell_type": "markdown",
      "metadata": {
        "id": "fvY2WEbRfCQN"
      },
      "source": [
        "🏫 Exercise 9: Create a DataFrame from NumPy array"
      ]
    },
    {
      "cell_type": "code",
      "execution_count": null,
      "metadata": {
        "id": "ahxBbxGgfCQO",
        "colab": {
          "base_uri": "https://localhost:8080/"
        },
        "outputId": "1af4b9dd-e4bb-4c80-f11f-6ee24b32de7e"
      },
      "outputs": [
        {
          "output_type": "stream",
          "name": "stdout",
          "text": [
            "    A   B\n",
            "0   4   7\n",
            "1   8   5\n",
            "2  12  11\n",
            "3   0   3\n"
          ]
        }
      ],
      "source": [
        "# TO DO: Create a 4x2 NumPy array with random numbers\n",
        "array = np.array( [ [4,7], [8,5], [12,11], [0,3] ] )  # YOUR CODE HERE\n",
        "# print(array)\n",
        "\n",
        "# TO DO: Convert to DataFrame with columns ['A', 'B']\n",
        "df_array = pd.DataFrame(array, columns = ['A', 'B'])  # YOUR CODE HERE\n",
        "print(df_array)"
      ]
    },
    {
      "cell_type": "markdown",
      "metadata": {
        "id": "HajC6BDbfCQO"
      },
      "source": [
        "<details> <summary>✅ Solution</summary>\n",
        "\n",
        "array = np.array([[1,2],[3,4],[5,6],[7,8]])\n",
        "df_array = pd.DataFrame(array, columns=['A', 'B'])\n",
        "print(df_array)\n",
        "\n",
        "</details>"
      ]
    },
    {
      "cell_type": "markdown",
      "metadata": {
        "id": "8vVgHH5tfCQO"
      },
      "source": [
        "### Summary\n",
        "\n",
        "✅ You have practised:\n",
        "\n",
        "- Advanced NumPy array operations (slicing, reshaping, math)\n",
        "\n",
        "- Pandas DataFrame creation, slicing, filtering, grouping, sorting\n",
        "\n",
        "- Connecting NumPy and Pandas for flexible data handling\n"
      ]
    }
  ],
  "metadata": {
    "colab": {
      "provenance": []
    },
    "kernelspec": {
      "display_name": "Python 3",
      "name": "python3"
    },
    "language_info": {
      "name": "python"
    }
  },
  "nbformat": 4,
  "nbformat_minor": 0
}