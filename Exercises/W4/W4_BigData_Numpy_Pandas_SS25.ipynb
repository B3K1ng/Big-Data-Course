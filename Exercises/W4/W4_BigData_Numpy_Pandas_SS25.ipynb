{
 "cells": [
  {
   "cell_type": "markdown",
   "metadata": {
    "id": "863oByutTzyd"
   },
   "source": [
    "#  Week 4: NumPy & Pandas\n"
   ]
  },
  {
   "cell_type": "markdown",
   "metadata": {},
   "source": [
    "### Introduction\n",
    "In this notebook, we will dive deeper into:\n",
    "\n",
    "- NumPy arrays: creation, slicing, operations\n",
    "- Pandas DataFrames: creation, accessing, filtering, adding columns\n",
    "- Combining both libraries for data handling\n",
    "\n",
    "Please complete the sections marked as # YOUR CODE HERE.\n",
    "You will get practice examples, and short tasks to complete on your own."
   ]
  },
  {
   "cell_type": "markdown",
   "id": "3c9e7349",
   "metadata": {},
   "source": [
    "### Section 1: NumPy Arrays\n",
    "\n",
    "🏫 Example: Create a 1D array and explore it"
   ]
  },
  {
   "cell_type": "code",
   "execution_count": 8,
   "metadata": {
    "colab": {
     "base_uri": "https://localhost:8080/"
    },
    "executionInfo": {
     "elapsed": 293,
     "status": "ok",
     "timestamp": 1715345904210,
     "user": {
      "displayName": "Renato Mio",
      "userId": "05761995217374874471"
     },
     "user_tz": -120
    },
    "id": "2jUL9djvTmpt",
    "outputId": "86a748f1-17f0-46df-d234-e3a7603af241"
   },
   "outputs": [
    {
     "name": "stdout",
     "output_type": "stream",
     "text": [
      "Array: [0 1 2 3 4 5 6 7 8 9]\n",
      "Third element: 2\n",
      "Alternative array: [0 1 2 3 4 5 6 7 8 9]\n"
     ]
    }
   ],
   "source": [
    "import numpy as np\n",
    "\n",
    "# Create a 1D array containing numbers from 0 to 9\n",
    "myArray = np.array([0, 1, 2, 3, 4, 5, 6, 7, 8, 9])\n",
    "print(\"Array:\", myArray)\n",
    "\n",
    "# Access the element at index 3 (4th element)\n",
    "print(\"Third element:\", myArray[2])\n",
    "\n",
    "# Alternative way to create the array\n",
    "myArray2 = np.array(range(10))\n",
    "print(\"Alternative array:\", myArray2)"
   ]
  },
  {
   "cell_type": "markdown",
   "metadata": {},
   "source": [
    "🏫 Exercise 1: Perform math operations"
   ]
  },
  {
   "cell_type": "code",
   "execution_count": 12,
   "metadata": {},
   "outputs": [
    {
     "name": "stdout",
     "output_type": "stream",
     "text": [
      "Result of addition: [ 10  21  32  43  54  65  76  87  98 109]\n",
      "Result of multiplication: [ 50 100 150 200 250 300 350 400 450 500]\n"
     ]
    }
   ],
   "source": [
    "# TO DO: Create another array with values [10,20,30,40,50,60,70,80,90,100]\n",
    "myArray3 = np.array([10,20,30,40,50,60,70,80,90,100])  # YOUR CODE HERE\n",
    "\n",
    "# Add myArray and myArray3 element-wise\n",
    "arraySum = myArray2 + myArray3  # YOUR CODE HERE\n",
    "print(\"Result of addition:\", arraySum)\n",
    "\n",
    "# Multiply myArray3 by 5\n",
    "myArray4 = myArray3 * 5  # YOUR CODE HERE\n",
    "print(\"Result of multiplication:\", myArray4)"
   ]
  },
  {
   "cell_type": "markdown",
   "metadata": {},
   "source": [
    "<details> <summary>✅ Solution</summary>\n",
    "\n",
    "myArray3 = np.array([10,20,30,40,50,60,70,80,90,100])\n",
    "arraySum = myArray + myArray3\n",
    "myArray4 = myArray3 * 5\n",
    "print(\"Result of addition:\", arraySum)\n",
    "print(\"Result of multiplication:\", myArray4)\n",
    "\n",
    "</details>"
   ]
  },
  {
   "cell_type": "markdown",
   "metadata": {},
   "source": [
    "🏫 Exercise 2: Work with 2D arrays"
   ]
  },
  {
   "cell_type": "code",
   "execution_count": 13,
   "metadata": {},
   "outputs": [
    {
     "name": "stdout",
     "output_type": "stream",
     "text": [
      "[[1 2 3]\n",
      " [4 5 6]\n",
      " [7 8 9]]\n",
      "[[0.5 1.  1.5]\n",
      " [2.  2.5 3. ]\n",
      " [3.5 4.  4.5]]\n",
      "[[ 6 12 18]\n",
      " [24 30 36]\n",
      " [42 48 54]]\n"
     ]
    }
   ],
   "source": [
    "# TO DO: Create a 3x3 array [[1,2,3],[4,5,6],[7,8,9]]\n",
    "array_2d = np.array([[1,2,3],[4,5,6],[7,8,9]])  # YOUR CODE HERE\n",
    "print(array_2d)\n",
    "\n",
    "# Divide all elements by 2\n",
    "print(array_2d /2)  # YOUR CODE HERE\n",
    "\n",
    "# Multiply all elements by 6\n",
    "result = array_2d *6  # YOUR CODE HERE\n",
    "print(result)"
   ]
  },
  {
   "cell_type": "markdown",
   "metadata": {},
   "source": [
    "<details> <summary>✅ Solution</summary>\n",
    "\n",
    "array_2d = np.array([[1,2,3],[4,5,6],[7,8,9]])\n",
    "print(array_2d)\n",
    "print(array_2d / 2)\n",
    "result = array_2d * 6\n",
    "print(result)\n",
    "\n",
    "</details>"
   ]
  },
  {
   "cell_type": "markdown",
   "metadata": {},
   "source": [
    "🏫 Exercise 3: Slicing and reshaping"
   ]
  },
  {
   "cell_type": "code",
   "execution_count": 19,
   "metadata": {},
   "outputs": [
    {
     "name": "stdout",
     "output_type": "stream",
     "text": [
      "First row: [1 2 3]\n",
      "Second column: [2 5 8]\n",
      "Reshaped array: [1 2 3 4 5 6 7 8 9]\n"
     ]
    }
   ],
   "source": [
    "# TO DO: Slice the first row of array_2d\n",
    "first_row = array_2d[0,:]  # YOUR CODE HERE\n",
    "print(\"First row:\", first_row)\n",
    "\n",
    "# TO DO: Slice the second column of array_2d\n",
    "second_col = array_2d[:,1]  # YOUR CODE HERE\n",
    "print(\"Second column:\", second_col)\n",
    "\n",
    "# TO DO: Reshape array_2d into a 1D array\n",
    "reshaped = array_2d.reshape(-1)  # YOUR CODE HERE\n",
    "print(\"Reshaped array:\", reshaped)\n"
   ]
  },
  {
   "cell_type": "markdown",
   "metadata": {},
   "source": [
    "<details> <summary>✅ Solution</summary>\n",
    "\n",
    "first_row = array_2d[0, :]\n",
    "second_col = array_2d[:, 1]\n",
    "reshaped = array_2d.reshape(-1)\n",
    "print(\"First row:\", first_row)\n",
    "print(\"Second column:\", second_col)\n",
    "print(\"Reshaped array:\", reshaped)\n",
    "\n",
    "</details>"
   ]
  },
  {
   "cell_type": "markdown",
   "metadata": {},
   "source": [
    "## Section 2: Pandas DataFrames"
   ]
  },
  {
   "cell_type": "markdown",
   "metadata": {},
   "source": [
    "🏫 Example: Create a DataFrame"
   ]
  },
  {
   "cell_type": "code",
   "execution_count": 29,
   "metadata": {},
   "outputs": [
    {
     "name": "stdout",
     "output_type": "stream",
     "text": [
      "This is a dictionary: {'Name': ['Alice', 'Bob', 'Charlie', 'David'], 'Age': [25, 30, 35, 40], 'City': ['New York', 'Los Angeles', 'Chicago', 'Houston']}\n",
      "This is a DataFrame:\n",
      "       Name  Age         City\n",
      "0    Alice   25     New York\n",
      "1      Bob   30  Los Angeles\n",
      "2  Charlie   35      Chicago\n",
      "3    David   40      Houston\n"
     ]
    }
   ],
   "source": [
    "import pandas as pd\n",
    "\n",
    "# Create a DataFrame from a dictionary\n",
    "data = {\n",
    "    'Name': ['Alice', 'Bob', 'Charlie', 'David'],\n",
    "    'Age': [25, 30, 35, 40],\n",
    "    'City': ['New York', 'Los Angeles', 'Chicago', 'Houston']\n",
    "}\n",
    "\n",
    "print(\"This is a dictionary:\", data)\n",
    "\n",
    "df = pd.DataFrame(data)\n",
    "print(\"This is a DataFrame:\\n\", df)"
   ]
  },
  {
   "cell_type": "markdown",
   "metadata": {},
   "source": [
    "🏫 Exercise 4: Access and slice columns"
   ]
  },
  {
   "cell_type": "code",
   "execution_count": 23,
   "metadata": {},
   "outputs": [
    {
     "name": "stdout",
     "output_type": "stream",
     "text": [
      "0    25\n",
      "1    30\n",
      "2    35\n",
      "3    40\n",
      "Name: Age, dtype: int64\n",
      "1    30\n",
      "2    35\n",
      "Name: Age, dtype: int64\n"
     ]
    }
   ],
   "source": [
    "# TO DO: Access the 'Age' column\n",
    "ages = df['Age']  # YOUR CODE HERE\n",
    "print(ages)\n",
    "\n",
    "# TO DO: Slice the second and third elements from 'Age'\n",
    "age_slice = ages[1:3]  # YOUR CODE HERE\n",
    "print(age_slice)"
   ]
  },
  {
   "cell_type": "markdown",
   "metadata": {},
   "source": [
    "<details> <summary>✅ Solution</summary>\n",
    "\n",
    "ages = df['Age']\n",
    "age_slice = df['Age'][1:3]\n",
    "print(ages)\n",
    "print(age_slice)\n",
    "\n",
    "</details>"
   ]
  },
  {
   "cell_type": "markdown",
   "metadata": {},
   "source": [
    "🏫 Exercise 5: Add a new column"
   ]
  },
  {
   "cell_type": "code",
   "execution_count": 30,
   "metadata": {},
   "outputs": [
    {
     "name": "stdout",
     "output_type": "stream",
     "text": [
      "      Name  Age         City  Gender  Height\n",
      "0    Alice   25     New York  Female     165\n",
      "1      Bob   30  Los Angeles    Male     178\n",
      "2  Charlie   35      Chicago    Male     171\n",
      "3    David   40      Houston    Male     182\n"
     ]
    }
   ],
   "source": [
    "# TO DO: Add a 'Gender' column with ['Female', 'Male', 'Male', 'Male']\n",
    "df['Gender'] = ['Female', 'Male', 'Male', 'Male']  # YOUR CODE HERE\n",
    "df['Height'] = [165, 178, 171, 182]  # YOUR CODE HERE\n",
    "print(df)"
   ]
  },
  {
   "cell_type": "markdown",
   "metadata": {},
   "source": [
    "<details> <summary>✅ Solution</summary>\n",
    "\n",
    "df['Gender'] = ['Female', 'Male', 'Male', 'Male']\n",
    "print(df)\n",
    "\n",
    "</details>"
   ]
  },
  {
   "cell_type": "markdown",
   "metadata": {},
   "source": [
    "🏫 Exercise 6: Filter data"
   ]
  },
  {
   "cell_type": "code",
   "execution_count": 25,
   "metadata": {},
   "outputs": [
    {
     "name": "stdout",
     "output_type": "stream",
     "text": [
      "Filtered DataFrame:\n",
      "       Name  Age         City Gender\n",
      "1      Bob   30  Los Angeles   Male\n",
      "2  Charlie   35      Chicago   Male\n",
      "3    David   40      Houston   Male\n"
     ]
    }
   ],
   "source": [
    "# TO DO: Filter DataFrame to only show people aged 30 and above\n",
    "filtered_df = df[ df['Age']>=30 ]  # YOUR CODE HERE\n",
    "print(\"Filtered DataFrame:\\n\", filtered_df)"
   ]
  },
  {
   "cell_type": "code",
   "execution_count": 31,
   "metadata": {},
   "outputs": [
    {
     "name": "stdout",
     "output_type": "stream",
     "text": [
      "Filtered DataFrame:\n",
      "       Name  Age         City Gender  Height\n",
      "1      Bob   30  Los Angeles   Male     178\n",
      "2  Charlie   35      Chicago   Male     171\n",
      "3    David   40      Houston   Male     182\n"
     ]
    }
   ],
   "source": [
    "# Those taller than 170\n",
    "filtered_df = df[ df['Height']>=170 ]  # YOUR CODE HERE\n",
    "print(\"Filtered DataFrame:\\n\", filtered_df)"
   ]
  },
  {
   "cell_type": "code",
   "execution_count": 26,
   "metadata": {},
   "outputs": [
    {
     "data": {
      "text/plain": [
       "0    False\n",
       "1     True\n",
       "2     True\n",
       "3     True\n",
       "Name: Age, dtype: bool"
      ]
     },
     "execution_count": 26,
     "metadata": {},
     "output_type": "execute_result"
    }
   ],
   "source": [
    "df['Age']>=30"
   ]
  },
  {
   "cell_type": "markdown",
   "metadata": {},
   "source": [
    "<details> <summary>✅ Solution</summary>\n",
    "\n",
    "filtered_df = df[df['Age'] >= 30]\n",
    "print(\"Filtered DataFrame:\\n\", filtered_df)\n",
    "\n",
    "</details>"
   ]
  },
  {
   "cell_type": "markdown",
   "metadata": {},
   "source": [
    "🏫 Exercise 7: Grouping data"
   ]
  },
  {
   "cell_type": "code",
   "execution_count": 34,
   "metadata": {},
   "outputs": [
    {
     "name": "stdout",
     "output_type": "stream",
     "text": [
      "Gender\n",
      "Female    25.0\n",
      "Male      35.0\n",
      "Name: Age, dtype: float64\n"
     ]
    }
   ],
   "source": [
    "# TODO: Group by 'Gender' and calculate the average age\n",
    "grouped = df.groupby('Gender')  # YOUR CODE HERE\n",
    "grouped_age = grouped['Age']\n",
    "print(grouped_age.mean())"
   ]
  },
  {
   "cell_type": "markdown",
   "metadata": {},
   "source": [
    "<details> <summary>✅ Solution</summary>\n",
    "\n",
    "grouped = df.groupby('Gender')['Age']\n",
    "print(grouped.mean())\n",
    "\n",
    "</details>"
   ]
  },
  {
   "cell_type": "markdown",
   "metadata": {},
   "source": [
    "🏫 Exercise 8: Sorting data"
   ]
  },
  {
   "cell_type": "code",
   "execution_count": null,
   "metadata": {},
   "outputs": [],
   "source": [
    "# TO DO: Sort the DataFrame by 'Age' in descending order\n",
    "sorted_df = ...  # YOUR CODE HERE\n",
    "print(sorted_df)"
   ]
  },
  {
   "cell_type": "markdown",
   "metadata": {},
   "source": [
    "<details> <summary>✅ Solution</summary>\n",
    "\n",
    "sorted_df = df.sort_values('Age', ascending=False)\n",
    "print(sorted_df)\n",
    "\n",
    "</details>"
   ]
  },
  {
   "cell_type": "markdown",
   "metadata": {},
   "source": [
    "### Section 3: Combining NumPy and Pandas"
   ]
  },
  {
   "cell_type": "markdown",
   "metadata": {},
   "source": [
    "🏫 Exercise 9: Create a DataFrame from NumPy array"
   ]
  },
  {
   "cell_type": "code",
   "execution_count": null,
   "metadata": {},
   "outputs": [],
   "source": [
    "# TO DO: Create a 4x2 NumPy array with random numbers\n",
    "array = ...  # YOUR CODE HERE\n",
    "print(array)\n",
    "\n",
    "# TO DO: Convert to DataFrame with columns ['A', 'B']\n",
    "df_array = ...  # YOUR CODE HERE\n",
    "print(df_array)"
   ]
  },
  {
   "cell_type": "markdown",
   "metadata": {},
   "source": [
    "<details> <summary>✅ Solution</summary>\n",
    "\n",
    "array = np.array([[1,2],[3,4],[5,6],[7,8]])\n",
    "df_array = pd.DataFrame(array, columns=['A', 'B'])\n",
    "print(df_array)\n",
    "\n",
    "</details>"
   ]
  },
  {
   "cell_type": "markdown",
   "metadata": {},
   "source": [
    "### Summary\n",
    "\n",
    "✅ You have practised:\n",
    "\n",
    "- Advanced NumPy array operations (slicing, reshaping, math)\n",
    "\n",
    "- Pandas DataFrame creation, slicing, filtering, grouping, sorting\n",
    "\n",
    "- Connecting NumPy and Pandas for flexible data handling\n"
   ]
  }
 ],
 "metadata": {
  "colab": {
   "authorship_tag": "ABX9TyNQhi17UBUqUxg/R0N8QszV",
   "provenance": []
  },
  "kernelspec": {
   "display_name": "Python 3",
   "name": "python3"
  },
  "language_info": {
   "codemirror_mode": {
    "name": "ipython",
    "version": 3
   },
   "file_extension": ".py",
   "mimetype": "text/x-python",
   "name": "python",
   "nbconvert_exporter": "python",
   "pygments_lexer": "ipython3",
   "version": "3.12.4"
  }
 },
 "nbformat": 4,
 "nbformat_minor": 0
}
