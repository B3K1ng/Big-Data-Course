{
 "cells": [
  {
   "cell_type": "markdown",
   "metadata": {
    "id": "ONWCwLt-7Ss5"
   },
   "source": [
    "## 📘 Week 3: Python Data Types and Containers\n",
    "✨ Learning Objectives\n",
    "By the end of this session, you will be able to: ✅ Understand and identify Python data types (int, float, str, bool)\n",
    "✅ Create and manipulate lists and dictionaries\n",
    "✅ Use the type() function to inspect variable types\n",
    "✅ Complete partial code snippets by thinking through problems\n",
    "✅ Check your work using hidden solutions\n",
    "\n",
    "Remember to check the Variables values and shapes as you create them by clicking on the *{x}* button on the left panel.\n",
    "\n"
   ]
  },
  {
   "cell_type": "markdown",
   "id": "9d5e8b8b",
   "metadata": {},
   "source": [
    "### Part 1: Basic Data Types"
   ]
  },
  {
   "cell_type": "code",
   "execution_count": null,
   "metadata": {
    "colab": {
     "base_uri": "https://localhost:8080/"
    },
    "id": "j-jVkotm7AbX",
    "outputId": "bad1bbf1-a488-4ed7-fa2b-69bcdb4a8f61"
   },
   "outputs": [],
   "source": [
    "# Integer (whole number)\n",
    "my_int = 10\n",
    "print(\"my_int =\", my_int, \"| type:\", type(my_int))\n",
    "\n",
    "# Float (decimal number)\n",
    "my_float = 3.14\n",
    "print(\"my_float =\", my_float, \"| type:\", type(my_float))\n",
    "\n",
    "# String (text)\n",
    "my_str = \"Hello, world!\"\n",
    "print(\"my_str =\", my_str, \"| type:\", type(my_str))\n",
    "\n",
    "# Boolean (True/False)\n",
    "my_bool = True\n",
    "print(\"my_bool =\", my_bool, \"| type:\", type(my_bool))"
   ]
  },
  {
   "cell_type": "markdown",
   "metadata": {
    "id": "PU5lpXKdMx7t"
   },
   "source": [
    "### 🏋️‍♀️ Exercise 1\n",
    "✅ Create:\n",
    "\n",
    "- an integer called student_age\n",
    "\n",
    "- a string called student_name"
   ]
  },
  {
   "cell_type": "code",
   "execution_count": null,
   "metadata": {
    "colab": {
     "base_uri": "https://localhost:8080/"
    },
    "id": "KTuFv6oL9hLG",
    "outputId": "b6b919a1-1788-4768-edb3-ef559c4d17f6"
   },
   "outputs": [],
   "source": [
    "student_age = ...  # YOUR CODE HERE\n",
    "student_name = ...  # YOUR CODE HERE\n",
    "\n",
    "print(\"Age:\", student_age, \"| type:\", type(student_age))\n",
    "print(\"Name:\", student_name, \"| type:\", type(student_name))"
   ]
  },
  {
   "cell_type": "markdown",
   "metadata": {},
   "source": [
    "<details> <summary>💡 **Solution (click to expand)**</summary>\n",
    "\n",
    "student_age = 21\n",
    "student_name = \"Alice\"\n",
    "\n",
    "print(\"Age:\", student_age, \"| type:\", type(student_age))\n",
    "print(\"Name:\", student_name, \"| type:\", type(student_name))\n",
    "\n",
    "</details>"
   ]
  },
  {
   "cell_type": "markdown",
   "metadata": {
    "id": "5y7b2_pHNmr3"
   },
   "source": [
    "### Part 2: Lists"
   ]
  },
  {
   "cell_type": "code",
   "execution_count": null,
   "metadata": {
    "colab": {
     "base_uri": "https://localhost:8080/"
    },
    "id": "rJzlauT2Nny9",
    "outputId": "1cc6f04c-6731-41ed-f3ec-ba2137ab1e00"
   },
   "outputs": [],
   "source": [
    "# List of numbers\n",
    "numbers = [1, 2, 3, 4, 5]\n",
    "print(\"numbers =\", numbers)\n",
    "\n",
    "# Accessing items\n",
    "print(\"First item:\", numbers[0])\n",
    "\n",
    "# Adding an item\n",
    "numbers.append(6)\n",
    "print(\"After append:\", numbers)\n",
    "\n",
    "# Removing an item\n",
    "numbers.remove(3)\n",
    "print(\"After remove:\", numbers)"
   ]
  },
  {
   "cell_type": "markdown",
   "metadata": {
    "id": "IAVIOS8hONrI"
   },
   "source": [
    "### 🏋️‍♀️ Exercise 2\n",
    "- Create a list fruits with three fruits.\n",
    "- Add a new fruit and remove one existing fruit."
   ]
  },
  {
   "cell_type": "code",
   "execution_count": null,
   "metadata": {
    "colab": {
     "base_uri": "https://localhost:8080/"
    },
    "id": "MS7BEEHoDxAK",
    "outputId": "3b8f6a07-063c-458a-c541-aa9eb3266dd5"
   },
   "outputs": [],
   "source": [
    "fruits = [...]  # YOUR CODE HERE\n",
    "\n",
    "fruits.append(...)  # Add a fruit\n",
    "fruits.remove(...)  # Remove a fruit\n",
    "\n",
    "print(\"Final fruits list:\", fruits)"
   ]
  },
  {
   "cell_type": "markdown",
   "metadata": {
    "id": "08V7I5bLP6Pq"
   },
   "source": [
    "<details> <summary>💡 **Solution (click to expand)**</summary>\n",
    "\n",
    "fruits = [\"apple\", \"banana\", \"cherry\"]\n",
    "\n",
    "fruits.append(\"orange\")\n",
    "fruits.remove(\"banana\")\n",
    "\n",
    "print(\"Final fruits list:\", fruits)\n",
    "\n",
    "</details>"
   ]
  },
  {
   "cell_type": "markdown",
   "metadata": {},
   "source": [
    "### Part 3: Dictionaries\n"
   ]
  },
  {
   "cell_type": "code",
   "execution_count": null,
   "metadata": {
    "colab": {
     "base_uri": "https://localhost:8080/"
    },
    "id": "FbHyJExhEejj",
    "outputId": "91e59833-638b-445b-b75c-59eb1db8787a"
   },
   "outputs": [],
   "source": [
    "# Dictionary with keys and values\n",
    "student = {\n",
    "    \"name\": \"Alice\",\n",
    "    \"age\": 21,\n",
    "    \"major\": \"Biology\"\n",
    "}\n",
    "\n",
    "print(\"Student name:\", student[\"name\"])\n",
    "print(\"Student age:\", student[\"age\"])\n",
    "\n",
    "# Add new key-value pair\n",
    "student[\"year\"] = \"Senior\"\n",
    "print(\"Updated student:\", student)"
   ]
  },
  {
   "cell_type": "markdown",
   "metadata": {
    "id": "cJ435elcQSdK"
   },
   "source": [
    "### 🏋️‍♀️ Exercise 3\n",
    "✅ Create a dictionary book with:\n",
    "\n",
    "- title: a book title\n",
    "\n",
    "- author: an author name\n",
    "\n",
    "- year: the publication year"
   ]
  },
  {
   "cell_type": "code",
   "execution_count": null,
   "metadata": {
    "colab": {
     "base_uri": "https://localhost:8080/"
    },
    "id": "jxQD_4OZG1gh",
    "outputId": "8c588f6b-902c-49be-b2a9-809afbd7d0a2"
   },
   "outputs": [],
   "source": [
    "book = {\n",
    "    \"title\": ... ,  # YOUR CODE HERE\n",
    "    \"author\": ... ,\n",
    "    \"year\": ...\n",
    "}\n",
    "\n",
    "print(\"Book title:\", book[\"title\"])\n",
    "print(\"Book author:\", book[\"author\"])\n",
    "print(\"Book year:\", book[\"year\"])"
   ]
  },
  {
   "cell_type": "markdown",
   "metadata": {},
   "source": [
    "<details> <summary>💡 **Solution (click to expand)**</summary>\n",
    "\n",
    "book = {\n",
    "    \"title\": \"1984\",\n",
    "    \"author\": \"George Orwell\",\n",
    "    \"year\": 1949\n",
    "}\n",
    "\n",
    "print(\"Book title:\", book[\"title\"])\n",
    "print(\"Book author:\", book[\"author\"])\n",
    "print(\"Book year:\", book[\"year\"])\n",
    "\n",
    "</details>"
   ]
  },
  {
   "cell_type": "markdown",
   "metadata": {},
   "source": [
    "### Part 4: Dictionary with Multiple Items"
   ]
  },
  {
   "cell_type": "code",
   "execution_count": null,
   "metadata": {},
   "outputs": [],
   "source": [
    "# Dictionary of multiple books\n",
    "library = {\n",
    "    \"book1\": {\"title\": \"1984\", \"author\": \"George Orwell\", \"year\": 1949},\n",
    "    \"book2\": {\"title\": \"Brave New World\", \"author\": \"Aldous Huxley\", \"year\": 1932},\n",
    "    \"book3\": {\"title\": \"Fahrenheit 451\", \"author\": \"Ray Bradbury\", \"year\": 1953}\n",
    "}\n",
    "\n",
    "# Accessing the author of the second book\n",
    "print(\"Author of book2:\", library[\"book2\"][\"author\"])\n",
    "\n",
    "# Adding a new book\n",
    "library[\"book4\"] = {\"title\": \"The Handmaid's Tale\", \"author\": \"Margaret Atwood\", \"year\": 1985}\n",
    "print(\"Library now has:\", len(library), \"books\")"
   ]
  },
  {
   "cell_type": "markdown",
   "metadata": {},
   "source": [
    "### 🏋️‍♀️ Exercise 4\n",
    "Create a movies dictionary with:\n",
    "\n",
    "- movie1, movie2, movie3\n",
    "\n",
    "- each containing title, director, and year"
   ]
  },
  {
   "cell_type": "code",
   "execution_count": null,
   "metadata": {},
   "outputs": [],
   "source": [
    "movies = {\n",
    "    \"movie1\": {\"title\": ..., \"director\": ..., \"year\": ...},\n",
    "    \"movie2\": {\"title\": ..., \"director\": ..., \"year\": ...},\n",
    "    \"movie3\": {\"title\": ..., \"director\": ..., \"year\": ...}\n",
    "}\n",
    "\n",
    "print(\"Director of movie2:\", ...)  # YOUR CODE HERE"
   ]
  },
  {
   "cell_type": "markdown",
   "metadata": {},
   "source": [
    "<details> <summary>💡 **Solution (click to expand)**</summary>\n",
    "\n",
    "movies = {\n",
    "    \"movie1\": {\"title\": \"Inception\", \"director\": \"Christopher Nolan\", \"year\": 2010},\n",
    "    \"movie2\": {\"title\": \"The Matrix\", \"director\": \"The Wachowskis\", \"year\": 1999},\n",
    "    \"movie3\": {\"title\": \"Parasite\", \"director\": \"Bong Joon-ho\", \"year\": 2019}\n",
    "}\n",
    "\n",
    "print(\"Director of movie2:\", movies[\"movie2\"][\"director\"])\n",
    "\n",
    "</details>"
   ]
  },
  {
   "cell_type": "markdown",
   "metadata": {},
   "source": [
    "### Part 5: Type Checking\n"
   ]
  },
  {
   "cell_type": "code",
   "execution_count": null,
   "metadata": {
    "colab": {
     "base_uri": "https://localhost:8080/"
    },
    "id": "RaPW-CPiJioh",
    "outputId": "3518bebf-41b5-4394-8479-8fd17f7fab7e"
   },
   "outputs": [],
   "source": [
    "# Using type() to check variable types\n",
    "x = 42\n",
    "y = \"hello\"\n",
    "z = 3.14\n",
    "\n",
    "print(type(x))  # int\n",
    "print(type(y))  # str\n",
    "print(type(z))  # float"
   ]
  },
  {
   "cell_type": "markdown",
   "metadata": {},
   "source": [
    "### 🏋️‍♀️ Exercise 5\n",
    "- Define three variables of any types.\n",
    "- Print out their types."
   ]
  },
  {
   "cell_type": "code",
   "execution_count": null,
   "metadata": {
    "colab": {
     "base_uri": "https://localhost:8080/"
    },
    "id": "EvsPE1_yKhAs",
    "outputId": "c460aadd-1d52-4ca8-fc3a-0b3e4574167c"
   },
   "outputs": [],
   "source": [
    "var1 = ...  # YOUR CODE HERE\n",
    "var2 = ...\n",
    "var3 = ...\n",
    "\n",
    "print(type(var1))\n",
    "print(type(var2))\n",
    "print(type(var3))"
   ]
  },
  {
   "cell_type": "markdown",
   "metadata": {},
   "source": [
    "<details> <summary>💡 **Solution (click to expand)**</summary>\n",
    "\n",
    "var1 = 100\n",
    "var2 = False\n",
    "var3 = \"data\"\n",
    "\n",
    "print(type(var1))  # int\n",
    "print(type(var2))  # bool\n",
    "print(type(var3))  # str\n",
    "\n",
    "</details>"
   ]
  },
  {
   "cell_type": "markdown",
   "metadata": {},
   "source": [
    "### ✅ Summary\n",
    "In this notebook, you practiced:\n",
    "\n",
    "- Creating and using variables of different types\n",
    "\n",
    "- Manipulating lists and dictionaries\n",
    "\n",
    "- Checking variable types\n",
    "\n",
    "- Completing and debugging Python code"
   ]
  },
  {
   "cell_type": "markdown",
   "id": "c460bed7",
   "metadata": {},
   "source": [
    "## 📚 Useful Resources\n",
    "- [Python Data Types - W3Schools](https://www.w3schools.com/python/python_datatypes.asp)\n",
    "- [Python Data Types - Programmiz](https://www.programiz.com/python-programming/variables-datatypes)\n",
    "- [Variables and Data Types in Python – GeeksForGeeks](https://www.geeksforgeeks.org/python-data-types/)\n"
   ]
  }
 ],
 "metadata": {
  "colab": {
   "provenance": []
  },
  "kernelspec": {
   "display_name": "Python 3",
   "name": "python3"
  },
  "language_info": {
   "name": "python"
  }
 },
 "nbformat": 4,
 "nbformat_minor": 0
}
