{
 "cells": [
  {
   "cell_type": "markdown",
   "id": "af46ee11",
   "metadata": {},
   "source": [
    "# Week 5 – Review + Control Flow\n",
    "Topics: Review (variables, lists, dictionaries, NumPy, pandas) + if/elif/else + for loops"
   ]
  },
  {
   "cell_type": "markdown",
   "id": "ff6f240e",
   "metadata": {},
   "source": [
    "### Part 1: Review – Lists and Dictionaries\n",
    "\n",
    "1.1 Create a list and access items"
   ]
  },
  {
   "cell_type": "code",
   "execution_count": null,
   "id": "33eadab3",
   "metadata": {},
   "outputs": [],
   "source": [
    "# Create a list of common nutrients\n",
    "nutrients = ['Protein', 'Carbohydrate', 'Fat', 'Vitamin C', 'Calcium']\n",
    "print(\"Full list:\", nutrients)\n",
    "\n",
    "# Access the third item and print it\n",
    "third_nutrient = ...  # YOUR CODE GOES HERE\n",
    "print(\"Third nutrient:\", ... ) # YOUR CODE GOES HERE"
   ]
  },
  {
   "cell_type": "markdown",
   "id": "90572e34",
   "metadata": {},
   "source": [
    "<details>\n",
    "<summary>✅ Solution</summary>\n",
    "third_nutrient = nutrients[2]\n",
    "print(\"Third nutrient:\", third_nutrient)\n",
    "</details>"
   ]
  },
  {
   "cell_type": "markdown",
   "id": "111de4b9",
   "metadata": {},
   "source": [
    "1.2 Create a dictionary with food data"
   ]
  },
  {
   "cell_type": "code",
   "execution_count": null,
   "id": "70af6ad8",
   "metadata": {},
   "outputs": [],
   "source": [
    "# Dictionary of a food item\n",
    "food_item = {\n",
    "    'name': 'Banana',\n",
    "    'calories': 105,\n",
    "    'fiber': 3.1,\n",
    "    'vitamin C (mg)': 8.7\n",
    "}\n",
    "print(food_item)\n",
    "\n",
    "# Access and print the fiber content\n",
    "fiber = ...  # YOUR CODE GOES HERE\n",
    "print(\"Fiber:\", ...) # YOUR CODE GOES HERE"
   ]
  },
  {
   "cell_type": "markdown",
   "id": "9e68aa27",
   "metadata": {},
   "source": [
    "<details>\n",
    "<summary>✅ Solution</summary>\n",
    "fiber = food_item['fiber']\n",
    "print(\"Fiber:\", fiber)\n",
    "</details>"
   ]
  },
  {
   "cell_type": "markdown",
   "id": "7a483ae9",
   "metadata": {},
   "source": [
    "1.3 Function version of dictionary access"
   ]
  },
  {
   "cell_type": "code",
   "execution_count": null,
   "id": "6b22c875",
   "metadata": {},
   "outputs": [],
   "source": [
    "def get_nutrient(food_dict, nutrient):\n",
    "    return ...  # YOUR CODE GOES HERE\n",
    "\n",
    "# Try it\n",
    "fiber_val = get_nutrient(food_item, 'fiber')\n",
    "print(\"Fiber via function:\", fiber_val)"
   ]
  },
  {
   "cell_type": "markdown",
   "id": "f32cecc8",
   "metadata": {},
   "source": [
    "<details>\n",
    "<summary>✅ Solution</summary>\n",
    "def get_nutrient(food_dict, nutrient):\n",
    "    return food_dict[nutrient]\n",
    "\n",
    "fiber_val = get_nutrient(food_item, 'fiber')\n",
    "print(\"Fiber via function:\", fiber_val)\n",
    "</details>"
   ]
  },
  {
   "cell_type": "markdown",
   "id": "ca1dedd2",
   "metadata": {},
   "source": [
    "### Part 2: Understanding range() and Loops\n",
    "\n",
    "2.1 range() basics"
   ]
  },
  {
   "cell_type": "code",
   "execution_count": null,
   "id": "6afa2bd7",
   "metadata": {},
   "outputs": [],
   "source": [
    "# Example of using range\n",
    "for i in range(5):\n",
    "    print(\"i =\", i)"
   ]
  },
  {
   "cell_type": "markdown",
   "id": "8d028874",
   "metadata": {},
   "source": [
    "Explanation: `range(5)` creates a sequence of numbers from 0 to 4 (not including 5). \n",
    "It's commonly used to repeat something a set number of times."
   ]
  },
  {
   "cell_type": "markdown",
   "id": "7ef83f1c",
   "metadata": {},
   "source": [
    "2.2 Loop through a list of foods"
   ]
  },
  {
   "cell_type": "code",
   "execution_count": null,
   "id": "2eb74da5",
   "metadata": {},
   "outputs": [],
   "source": [
    "foods = ['Apple', 'Bread', 'Milk', 'Yogurt']\n",
    "\n",
    "for food in foods:\n",
    "    print(\"Today's item:\", food)"
   ]
  },
  {
   "cell_type": "markdown",
   "id": "7ff2ab40",
   "metadata": {},
   "source": [
    "2.3 Function version"
   ]
  },
  {
   "cell_type": "code",
   "execution_count": null,
   "id": "405a8a4f",
   "metadata": {},
   "outputs": [],
   "source": [
    "def print_foods(food_list):\n",
    "    for item in food_list:\n",
    "        print(\"Food:\", item)\n",
    "\n",
    "# Try it\n",
    "print_foods(foods)"
   ]
  },
  {
   "cell_type": "markdown",
   "id": "50fd47a2",
   "metadata": {},
   "source": [
    "### Part 3: If/Elif/Else Practice\n",
    "\n",
    "3.1 Categorise based on calories"
   ]
  },
  {
   "cell_type": "code",
   "execution_count": null,
   "id": "4f35379c",
   "metadata": {},
   "outputs": [],
   "source": [
    "calories = ...  # YOUR INPUT HERE\n",
    "\n",
    "if calories < 100:\n",
    "    print(\"Low calorie food\")\n",
    "elif calories < 200:\n",
    "    print(\"Moderate calorie food\")\n",
    "else:\n",
    "    print(\"High calorie food\")"
   ]
  },
  {
   "cell_type": "markdown",
   "id": "4afb1785",
   "metadata": {},
   "source": [
    "3.2 Function version"
   ]
  },
  {
   "cell_type": "code",
   "execution_count": null,
   "id": "de2c8977",
   "metadata": {},
   "outputs": [],
   "source": [
    "def classify_calories(cals):\n",
    "    if cals < 100:\n",
    "        return \"Low calorie\"\n",
    "    elif cals < 200:\n",
    "        return \"Moderate calorie\"\n",
    "    else:\n",
    "        return \"High calorie\"\n",
    "\n",
    "print(classify_calories(...))  # Try this!"
   ]
  },
  {
   "cell_type": "markdown",
   "id": "dbe9bc0f",
   "metadata": {},
   "source": [
    "### Part 4: NumPy Operations"
   ]
  },
  {
   "cell_type": "code",
   "execution_count": null,
   "id": "680cec7d",
   "metadata": {},
   "outputs": [],
   "source": [
    "import numpy as np\n",
    "\n",
    "# Macronutrient grams for a meal: [protein, carbs, fat]\n",
    "meal = np.array([25, 60, 20])\n",
    "\n",
    "# Compute the total caloric value of a meal\n",
    "# Caloric values: 4 kcal/g (protein, carbs), 9 kcal/g (fat)\n",
    "calories = meal * np.array([...]) # YOUR CODE GOES HERE\n",
    "print(\"Calories per nutrient:\", calories)\n",
    "\n",
    "total = np.sum(...)  # YOUR CODE GOES HERE\n",
    "print(\"Total meal calories:\", total)"
   ]
  },
  {
   "cell_type": "markdown",
   "id": "c2c2c637",
   "metadata": {},
   "source": [
    "<details>\n",
    "<summary>✅ Solution</summary>\n",
    "calories = meal * np.array([4, 4, 9])\n",
    "print(\"Calories per nutrient:\", calories)\n",
    "\n",
    "total = np.sum(calories)\n",
    "print(\"Total meal calories:\", total)\n",
    "</details>"
   ]
  },
  {
   "cell_type": "markdown",
   "id": "04c19a14",
   "metadata": {},
   "source": [
    "### Part 5: pandas DataFrame + Flow Control"
   ]
  },
  {
   "cell_type": "code",
   "execution_count": null,
   "id": "d0b7eed8",
   "metadata": {},
   "outputs": [],
   "source": [
    "import pandas as pd\n",
    "\n",
    "# Sample dataset\n",
    "data = {\n",
    "    'Food': ['Egg', 'Avocado', 'Bread', 'Cheese'],\n",
    "    'Protein_g': [6, 2, 4, 7],\n",
    "    'Fat_g': [5, 15, 1, 9],\n",
    "    'Calories': [78, 240, 80, 113]\n",
    "}\n",
    "\n",
    "df = pd.DataFrame(data)\n",
    "print(df)"
   ]
  },
  {
   "cell_type": "markdown",
   "id": "d1e7239e",
   "metadata": {},
   "source": [
    "5.1 Filter based on calories using flow control"
   ]
  },
  {
   "cell_type": "code",
   "execution_count": null,
   "id": "799243a1",
   "metadata": {},
   "outputs": [],
   "source": [
    "# Print which foods are high on calores (over 100 kcal)\n",
    "for i in range(len(df)):\n",
    "    if df[...][...] > 100: # YOUR CODE GOES HERE\n",
    "        print(df[...][...], \"is high in calories.\") # YOUR CODE GOES HERE"
   ]
  },
  {
   "cell_type": "markdown",
   "id": "60efe764",
   "metadata": {},
   "source": [
    "<details>\n",
    "<summary>✅ Solution</summary>\n",
    "for i in range(len(df)):\n",
    "    if df['Calories'][i] > 100:\n",
    "        print(df['Food'][i], \"is high in calories.\")\n",
    "</details>"
   ]
  },
  {
   "cell_type": "markdown",
   "id": "d0ed13f6",
   "metadata": {},
   "source": [
    "5.2 Calculate mean and std of a column"
   ]
  },
  {
   "cell_type": "code",
   "execution_count": null,
   "id": "73d921e5",
   "metadata": {},
   "outputs": [],
   "source": [
    "protein_mean = ...  # YOUR CODE\n",
    "protein_std = ...   # YOUR CODE\n",
    "\n",
    "print(\"Mean protein:\", protein_mean)\n",
    "print(\"STD protein:\", protein_std)"
   ]
  },
  {
   "cell_type": "markdown",
   "id": "c4afc639",
   "metadata": {},
   "source": [
    "<details>\n",
    "<summary>✅ Solution</summary>\n",
    "protein_mean = df['Protein_g'].mean()\n",
    "protein_std = df['Protein_g'].std()\n",
    "print(\"Mean protein:\", protein_mean)\n",
    "print(\"STD protein:\", protein_std)\n",
    "</details>"
   ]
  },
  {
   "cell_type": "markdown",
   "id": "cfd9d3f3",
   "metadata": {},
   "source": [
    "5.3 Function version of summary"
   ]
  },
  {
   "cell_type": "code",
   "execution_count": null,
   "id": "3e90f191",
   "metadata": {},
   "outputs": [],
   "source": [
    "def describe_nutrient(df, colname):\n",
    "    mean_val = df[colname].mean()\n",
    "    std_val = df[colname].std()\n",
    "    return mean_val, std_val\n",
    "\n",
    "fat_mean, fat_std = describe_nutrient(df, 'Fat_g')"
   ]
  }
 ],
 "metadata": {
  "kernelspec": {
   "display_name": "Python 3",
   "language": "python",
   "name": "python3"
  },
  "language_info": {
   "codemirror_mode": {
    "name": "ipython",
    "version": 3
   },
   "file_extension": ".py",
   "mimetype": "text/x-python",
   "name": "python",
   "nbconvert_exporter": "python",
   "pygments_lexer": "ipython3",
   "version": "3.12.4"
  }
 },
 "nbformat": 4,
 "nbformat_minor": 5
}
