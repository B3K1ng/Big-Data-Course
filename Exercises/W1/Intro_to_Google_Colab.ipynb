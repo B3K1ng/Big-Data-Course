{
  "nbformat": 4,
  "nbformat_minor": 0,
  "metadata": {
    "colab": {
      "provenance": []
    },
    "kernelspec": {
      "name": "python3",
      "display_name": "Python 3"
    },
    "language_info": {
      "name": "python"
    }
  },
  "cells": [
    {
      "cell_type": "markdown",
      "source": [
        "# This is a title\n",
        "**This is a text block.**"
      ],
      "metadata": {
        "id": "LpIBSA9YV9S6"
      }
    },
    {
      "cell_type": "markdown",
      "source": [
        "This is some text"
      ],
      "metadata": {
        "id": "Icj7YDoUfqV3"
      }
    },
    {
      "cell_type": "code",
      "execution_count": null,
      "metadata": {
        "id": "vUifH-LgVqPK"
      },
      "outputs": [],
      "source": [
        "a = \"hello world\"\n",
        "b = 'z'"
      ]
    },
    {
      "cell_type": "code",
      "source": [
        "print(a)"
      ],
      "metadata": {
        "colab": {
          "base_uri": "https://localhost:8080/"
        },
        "id": "7YUhGbpuXz-a",
        "outputId": "580e8227-30a0-4527-8779-37be360bda8c"
      },
      "execution_count": null,
      "outputs": [
        {
          "output_type": "stream",
          "name": "stdout",
          "text": [
            "hello world\n"
          ]
        }
      ]
    },
    {
      "cell_type": "code",
      "source": [
        "num1 = 43\n",
        "num1 = 56"
      ],
      "metadata": {
        "id": "_N3XFrutYIEm"
      },
      "execution_count": null,
      "outputs": []
    },
    {
      "cell_type": "code",
      "source": [
        "print(num1)"
      ],
      "metadata": {
        "colab": {
          "base_uri": "https://localhost:8080/"
        },
        "id": "A5H70ZFOYlna",
        "outputId": "f0173ed3-2eb0-41f4-bbb7-a76e5b843926"
      },
      "execution_count": null,
      "outputs": [
        {
          "output_type": "stream",
          "name": "stdout",
          "text": [
            "56\n"
          ]
        }
      ]
    },
    {
      "cell_type": "code",
      "source": [
        "num2 = 3.14"
      ],
      "metadata": {
        "id": "9rcyU32_Ywxx"
      },
      "execution_count": null,
      "outputs": []
    },
    {
      "cell_type": "code",
      "source": [
        "bool1 = False  # The variable bool1 is a boolean.\n",
        "bool2 = True"
      ],
      "metadata": {
        "id": "kYuURr2AZNWs"
      },
      "execution_count": null,
      "outputs": []
    }
  ]
}